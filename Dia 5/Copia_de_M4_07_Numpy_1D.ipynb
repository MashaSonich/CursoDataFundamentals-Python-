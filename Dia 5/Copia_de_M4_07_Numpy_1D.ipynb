{
  "metadata": {
    "kernelspec": {
      "name": "python",
      "display_name": "Pyolite",
      "language": "python"
    },
    "language_info": {
      "codemirror_mode": {
        "name": "python",
        "version": 3
      },
      "file_extension": ".py",
      "mimetype": "text/x-python",
      "name": "python",
      "nbconvert_exporter": "python",
      "pygments_lexer": "ipython3",
      "version": "3.8"
    },
    "colab": {
      "provenance": []
    }
  },
  "nbformat_minor": 0,
  "nbformat": 4,
  "cells": [
    {
      "cell_type": "markdown",
      "source": [
        "# Numpy 1D en Python\n",
        "\n",
        "Después de completar esta práctica serás capaz de:\n",
        "\n",
        "*   Usar la librería `numpy`\n",
        "*   Realizar operaciones con `numpy`\n"
      ],
      "metadata": {
        "id": "LYYuQv3XgZhF"
      }
    },
    {
      "cell_type": "code",
      "source": [
        "#Busca en internet como importar numpy\n",
        "import numpy as np"
      ],
      "metadata": {
        "id": "7yrUBZ6JvCF9"
      },
      "execution_count": 1,
      "outputs": []
    },
    {
      "cell_type": "markdown",
      "source": [
        "### Creamos una Lista Python de la siguiente manera:\n"
      ],
      "metadata": {
        "id": "gVYX1l_fgZhO"
      }
    },
    {
      "cell_type": "code",
      "source": [
        "# Creamos una lista python\n",
        "\n",
        "a = [\"0\", 1, \"two\", \"3\", 4]"
      ],
      "metadata": {
        "id": "s07xzYlzgZhP"
      },
      "execution_count": 7,
      "outputs": []
    },
    {
      "cell_type": "markdown",
      "source": [
        "Podemos acceder a los datos a través del índice:\n"
      ],
      "metadata": {
        "id": "xXHvR9_SgZhR"
      }
    },
    {
      "cell_type": "markdown",
      "source": [
        "<img src=\"https://cf-courses-data.s3.us.cloud-object-storage.appdomain.cloud/IBMDeveloperSkillsNetwork-PY0101EN-SkillsNetwork/labs/Module%205/images/NumOneList.png\" width=\"660\" />\n"
      ],
      "metadata": {
        "id": "KlC3t1dTgZhR"
      }
    },
    {
      "cell_type": "markdown",
      "source": [
        "Podemos acceder a cada elemento usando corchetes de la siguiente manera:\n"
      ],
      "metadata": {
        "id": "h7phFPjagZhS"
      }
    },
    {
      "cell_type": "code",
      "source": [
        "# Print each element\n",
        "\n",
        "print(\"a[0]:\", a[0])\n",
        "print(\"a[1]:\", a[1])\n",
        "print(\"a[2]:\", a[2])\n",
        "print(\"a[3]:\", a[3])\n",
        "print(\"a[4]:\", a[4])"
      ],
      "metadata": {
        "id": "c1cfc69ZgZhT",
        "colab": {
          "base_uri": "https://localhost:8080/"
        },
        "outputId": "3320eefb-3790-4a19-c13d-311f0eb3496e"
      },
      "execution_count": 8,
      "outputs": [
        {
          "output_type": "stream",
          "name": "stdout",
          "text": [
            "a[0]: 0\n",
            "a[1]: 1\n",
            "a[2]: two\n",
            "a[3]: 3\n",
            "a[4]: 4\n"
          ]
        }
      ]
    },
    {
      "cell_type": "markdown",
      "source": [
        "<hr>\n"
      ],
      "metadata": {
        "id": "T0bU0FIEgZhT"
      }
    },
    {
      "cell_type": "markdown",
      "source": [
        "<h2 id=\"numpy\">¿Qué es Numpy?</h2>\n"
      ],
      "metadata": {
        "id": "iB2IO6HSgZhU"
      }
    },
    {
      "cell_type": "markdown",
      "source": [
        "NumPy es una biblioteca de Python que se utiliza para trabajar con matrices, álgebra lineal, transformaciones de Fourier y matrices. Un array numpy es similar a una lista. NumPy significa Numerical Python y es un proyecto de código abierto. El objeto array en NumPy se llama **ndarray**, proporciona muchas funciones de apoyo que hacen que trabajar con ndarray sea muy fácil.\n",
        "\n",
        "Los arrays se utilizan con mucha frecuencia en la ciencia de datos, donde la velocidad y los recursos son muy importantes.\n",
        "\n",
        "NumPy generalmente se importa con el alias np.\n",
        "\n",
        "Por lo general, tiene un tamaño fijo y cada elemento es del mismo tipo. Podemos convertir una lista en un array numpy importando primero `numpy`:\n"
      ],
      "metadata": {
        "id": "wY8SHEdkgZhU"
      }
    },
    {
      "cell_type": "code",
      "source": [
        "# importamos la librería numpy\n",
        "\n",
        "import numpy as np"
      ],
      "metadata": {
        "id": "JcLzcIhJgZhV"
      },
      "execution_count": 9,
      "outputs": []
    },
    {
      "cell_type": "markdown",
      "source": [
        "Después convertimos la lista de la siguiente manera:\n"
      ],
      "metadata": {
        "id": "myP2BXo4gZhV"
      }
    },
    {
      "cell_type": "code",
      "source": [
        "# Creamos un array numpy\n",
        "\n",
        "a = np.array([0, 1, 2, 3, 4])\n",
        "a"
      ],
      "metadata": {
        "id": "iWcjLN3BgZhV",
        "colab": {
          "base_uri": "https://localhost:8080/"
        },
        "outputId": "1604b0a0-4810-4d3f-9bd3-b08328136ae9"
      },
      "execution_count": 10,
      "outputs": [
        {
          "output_type": "execute_result",
          "data": {
            "text/plain": [
              "array([0, 1, 2, 3, 4])"
            ]
          },
          "metadata": {},
          "execution_count": 10
        }
      ]
    },
    {
      "cell_type": "markdown",
      "source": [
        "Cada elemento es del mismo tipo, en este caso enteros:\n"
      ],
      "metadata": {
        "id": "Icd5qC2CgZhW"
      }
    },
    {
      "cell_type": "markdown",
      "source": [
        "<img src=\"https://cf-courses-data.s3.us.cloud-object-storage.appdomain.cloud/IBMDeveloperSkillsNetwork-PY0101EN-SkillsNetwork/labs/Module%205/images/NumOneNp.png\" width=\"500\" />\n"
      ],
      "metadata": {
        "id": "AHp0Tui5gZhW"
      }
    },
    {
      "cell_type": "markdown",
      "source": [
        "Al igual que con las listas, podemos acceder a cada elemento mediante corchetes:\n"
      ],
      "metadata": {
        "id": "hPeMfh3kgZhX"
      }
    },
    {
      "cell_type": "code",
      "source": [
        "# Imprimimos cada elemento\n",
        "\n",
        "print(\"a[0]:\", a[0])\n",
        "print(\"a[1]:\", a[1])\n",
        "print(\"a[2]:\", a[2])\n",
        "print(\"a[3]:\", a[3])\n",
        "print(\"a[4]:\", a[4])"
      ],
      "metadata": {
        "id": "oIijJ_izgZhX",
        "colab": {
          "base_uri": "https://localhost:8080/"
        },
        "outputId": "b740115f-4b93-4e23-d00b-ed8a6a3be208"
      },
      "execution_count": 11,
      "outputs": [
        {
          "output_type": "stream",
          "name": "stdout",
          "text": [
            "a[0]: 0\n",
            "a[1]: 1\n",
            "a[2]: 2\n",
            "a[3]: 3\n",
            "a[4]: 4\n"
          ]
        }
      ]
    },
    {
      "cell_type": "markdown",
      "source": [
        "### Comprobando la Versión de NumPy\n",
        "\n",
        "La versión se almacena en el atributo **versión**.\n"
      ],
      "metadata": {
        "id": "jBoJ6IdWgZhY"
      }
    },
    {
      "cell_type": "code",
      "source": [
        "print(np.__version__)"
      ],
      "metadata": {
        "id": "FR6DqYL3gZhY",
        "colab": {
          "base_uri": "https://localhost:8080/"
        },
        "outputId": "b304b89f-5c91-4c10-f1b9-b319d97c1329"
      },
      "execution_count": 12,
      "outputs": [
        {
          "output_type": "stream",
          "name": "stdout",
          "text": [
            "1.23.5\n"
          ]
        }
      ]
    },
    {
      "cell_type": "markdown",
      "source": [
        "<h3 id=\"type\">Tipo</h3>\n"
      ],
      "metadata": {
        "id": "PLv6Xv_vgZhY"
      }
    },
    {
      "cell_type": "markdown",
      "source": [
        "Si comprobamos el tipo del array obtenemos <b>numpy.ndarray</b>:\n"
      ],
      "metadata": {
        "id": "N53EDpyogZhY"
      }
    },
    {
      "cell_type": "code",
      "source": [
        "# Comprobamos el tipo del array\n",
        "\n",
        "type(a)"
      ],
      "metadata": {
        "id": "VAc5kEq6gZhZ",
        "colab": {
          "base_uri": "https://localhost:8080/"
        },
        "outputId": "6ebd318e-316a-49f4-dbd8-5e3b2c19dbf3"
      },
      "execution_count": 13,
      "outputs": [
        {
          "output_type": "execute_result",
          "data": {
            "text/plain": [
              "numpy.ndarray"
            ]
          },
          "metadata": {},
          "execution_count": 13
        }
      ]
    },
    {
      "cell_type": "markdown",
      "source": [
        "Como los array numpy contienen datos del mismo tipo, podemos usar el atributo \"dtype\" para obtener el tipo de datos de los elementos del array. En este caso, es un entero de 64 bits:\n"
      ],
      "metadata": {
        "id": "bDFlyDgIgZhZ"
      }
    },
    {
      "cell_type": "code",
      "source": [
        "# Comprobamos el tipo de valores almacenados en el array numpy\n",
        "\n",
        "a.dtype"
      ],
      "metadata": {
        "id": "Xj8BrecDgZhZ",
        "colab": {
          "base_uri": "https://localhost:8080/"
        },
        "outputId": "cc6b2f25-d2f7-44a2-a513-49edd3f4069c"
      },
      "execution_count": 15,
      "outputs": [
        {
          "output_type": "execute_result",
          "data": {
            "text/plain": [
              "dtype('int64')"
            ]
          },
          "metadata": {},
          "execution_count": 15
        }
      ]
    },
    {
      "cell_type": "markdown",
      "source": [
        "### Inténtalo tú mismo\n",
        "\n",
        "Comprueba el tipo de array y valor para la matriz dada **b**\n"
      ],
      "metadata": {
        "id": "MQiIVuJkgZha"
      }
    },
    {
      "cell_type": "code",
      "source": [
        "b = np.array([3.1, 11.02, 6.2, 213.2, 5.2])\n",
        "\n",
        "# Escriba aquí su solución\n",
        "type(b)"
      ],
      "metadata": {
        "id": "eNHpWhgWgZha",
        "colab": {
          "base_uri": "https://localhost:8080/"
        },
        "outputId": "f198fe65-ad70-406f-d9c1-7eb018e65b71"
      },
      "execution_count": 17,
      "outputs": [
        {
          "output_type": "execute_result",
          "data": {
            "text/plain": [
              "numpy.ndarray"
            ]
          },
          "metadata": {},
          "execution_count": 17
        }
      ]
    },
    {
      "cell_type": "markdown",
      "source": [
        "<h3 id=\"val\">Asignar un valor</h3>\n"
      ],
      "metadata": {
        "id": "_ELeitsogZha"
      }
    },
    {
      "cell_type": "markdown",
      "source": [
        "Podemos cambiar el valor del array. Observa el array <code>c</code>:\n"
      ],
      "metadata": {
        "id": "a4319rGVgZha"
      }
    },
    {
      "cell_type": "code",
      "source": [
        "# Creamos un array numpy\n",
        "\n",
        "c = np.array([20, 1, 2, 3, 4])\n",
        "c"
      ],
      "metadata": {
        "id": "D7F6F3rngZha",
        "colab": {
          "base_uri": "https://localhost:8080/"
        },
        "outputId": "0b205751-f116-4cf2-a62d-2b21bcb36edd"
      },
      "execution_count": 18,
      "outputs": [
        {
          "output_type": "execute_result",
          "data": {
            "text/plain": [
              "array([20,  1,  2,  3,  4])"
            ]
          },
          "metadata": {},
          "execution_count": 18
        }
      ]
    },
    {
      "cell_type": "markdown",
      "source": [
        "Podemos cambiar el primer elemento del array a 100 de la siguiente manera:\n"
      ],
      "metadata": {
        "id": "RfFXSlzKgZhb"
      }
    },
    {
      "cell_type": "code",
      "source": [
        "# Asignamos 100 al primer elemento\n",
        "\n",
        "c[0] = 100\n",
        "c"
      ],
      "metadata": {
        "id": "uKaQxnVRgZhb",
        "colab": {
          "base_uri": "https://localhost:8080/"
        },
        "outputId": "e2b2d820-a422-47df-f995-18126d6b08e9"
      },
      "execution_count": 19,
      "outputs": [
        {
          "output_type": "execute_result",
          "data": {
            "text/plain": [
              "array([100,   1,   2,   3,   4])"
            ]
          },
          "metadata": {},
          "execution_count": 19
        }
      ]
    },
    {
      "cell_type": "markdown",
      "source": [
        "Podemos cambiar el quinto elemento del array a 0 de la siguiente manera:\n"
      ],
      "metadata": {
        "id": "6HcbYln3gZhb"
      }
    },
    {
      "cell_type": "code",
      "source": [
        "# Asignamos 0 al 5º elemento\n",
        "\n",
        "c[4] = 0\n",
        "c"
      ],
      "metadata": {
        "id": "mjjv8482gZhb",
        "colab": {
          "base_uri": "https://localhost:8080/"
        },
        "outputId": "1c7f4141-8e2e-49cd-ddc4-c94fdfecb1b9"
      },
      "execution_count": 20,
      "outputs": [
        {
          "output_type": "execute_result",
          "data": {
            "text/plain": [
              "array([100,   1,   2,   3,   0])"
            ]
          },
          "metadata": {},
          "execution_count": 20
        }
      ]
    },
    {
      "cell_type": "markdown",
      "source": [
        "### Inténtalo tú mismo\n",
        "\n",
        "Asigna el valor 20 para el segundo elemento en el array dada.\n"
      ],
      "metadata": {
        "id": "5Pu_2ft8gZhb"
      }
    },
    {
      "cell_type": "code",
      "source": [
        "a = np.array([10, 2, 30, 40,50])\n",
        "\n",
        "# Escriba aquí su solución\n",
        "a[1] = 20\n",
        "a"
      ],
      "metadata": {
        "id": "OsxdC66jgZhc",
        "colab": {
          "base_uri": "https://localhost:8080/"
        },
        "outputId": "9103eaaa-e865-4888-e279-dce8b65d19d7"
      },
      "execution_count": 21,
      "outputs": [
        {
          "output_type": "execute_result",
          "data": {
            "text/plain": [
              "array([10, 20, 30, 40, 50])"
            ]
          },
          "metadata": {},
          "execution_count": 21
        }
      ]
    },
    {
      "cell_type": "markdown",
      "source": [
        "<h3 id=\"slice\">Slicing (Cortar)</h3>\n"
      ],
      "metadata": {
        "id": "vRKdaXQOgZhc"
      }
    },
    {
      "cell_type": "markdown",
      "source": [
        "Al igual que las listas, podemos dividir el array numpy. Slicing (Cortar) en python significa tomar los elementos de un índice dado a otro índice dado.\n",
        "\n",
        "Cortamos de esta forma: \\[start:end].\n",
        "\n",
        "Podemos seleccionar los elementos del 1 al 3 y asignarlos a un nuevo array numpy <code>d</code> de la siguiente manera:\n"
      ],
      "metadata": {
        "id": "uQ3s7jGegZhc"
      }
    },
    {
      "cell_type": "code",
      "source": [
        "# Cortamos el array numpy\n",
        "\n",
        "d = c[1:4]\n",
        "d"
      ],
      "metadata": {
        "id": "In_OW7wZgZhc",
        "colab": {
          "base_uri": "https://localhost:8080/"
        },
        "outputId": "e92bd75e-8430-4d66-f624-b641d33c2d5e"
      },
      "execution_count": 22,
      "outputs": [
        {
          "output_type": "execute_result",
          "data": {
            "text/plain": [
              "array([1, 2, 3])"
            ]
          },
          "metadata": {},
          "execution_count": 22
        }
      ]
    },
    {
      "cell_type": "markdown",
      "source": [
        "Podemos asignar los índices correspondientes a los nuevos valores de la siguiente manera:\n"
      ],
      "metadata": {
        "id": "OV0lvTnZgZhc"
      }
    },
    {
      "cell_type": "code",
      "source": [
        "# Establecemos el cuarto elemento y el quinto elemento en 300 y 400\n",
        "\n",
        "c[3:5] = 300, 400\n",
        "c"
      ],
      "metadata": {
        "id": "-XzYBqABgZhd",
        "colab": {
          "base_uri": "https://localhost:8080/"
        },
        "outputId": "c2a5f744-78c6-4de3-b4e0-62db370d632c"
      },
      "execution_count": 23,
      "outputs": [
        {
          "output_type": "execute_result",
          "data": {
            "text/plain": [
              "array([100,   1,   2, 300, 400])"
            ]
          },
          "metadata": {},
          "execution_count": 23
        }
      ]
    },
    {
      "cell_type": "markdown",
      "source": [
        "También podemos definir los pasos en el corte, así: \\[start\\:end:step].\n"
      ],
      "metadata": {
        "id": "nxUSJig-gZhd"
      }
    },
    {
      "cell_type": "code",
      "source": [
        "arr = np.array([1, 2, 3, 4, 5, 6, 7])\n",
        "\n",
        "print(arr[1:5:2])"
      ],
      "metadata": {
        "id": "KOtUFb7dgZhd",
        "colab": {
          "base_uri": "https://localhost:8080/"
        },
        "outputId": "45a7915a-90c8-4583-de0c-281d9a291d0b"
      },
      "execution_count": 24,
      "outputs": [
        {
          "output_type": "stream",
          "name": "stdout",
          "text": [
            "[2 4]\n"
          ]
        }
      ]
    },
    {
      "cell_type": "markdown",
      "source": [
        "Si no damos el start se considera 0\n"
      ],
      "metadata": {
        "id": "qEdA-nb2gZhd"
      }
    },
    {
      "cell_type": "code",
      "source": [
        "print(arr[:4])"
      ],
      "metadata": {
        "id": "oXYjDYJEgZhd",
        "colab": {
          "base_uri": "https://localhost:8080/"
        },
        "outputId": "ce1929a7-35b8-42e6-b880-edf1711f880c"
      },
      "execution_count": 25,
      "outputs": [
        {
          "output_type": "stream",
          "name": "stdout",
          "text": [
            "[1 2 3 4]\n"
          ]
        }
      ]
    },
    {
      "cell_type": "markdown",
      "source": [
        "Si no damos el end, se considera hasta la longitud del array.\n"
      ],
      "metadata": {
        "id": "863mB6jDgZhe"
      }
    },
    {
      "cell_type": "code",
      "source": [
        "print(arr[4:])"
      ],
      "metadata": {
        "id": "N45m3aUHgZhe",
        "colab": {
          "base_uri": "https://localhost:8080/"
        },
        "outputId": "a13b8b77-e417-420a-a8d5-41bc554b2e5c"
      },
      "execution_count": 26,
      "outputs": [
        {
          "output_type": "stream",
          "name": "stdout",
          "text": [
            "[5 6 7]\n"
          ]
        }
      ]
    },
    {
      "cell_type": "markdown",
      "source": [
        "Si no damos el step se considera 1\n"
      ],
      "metadata": {
        "id": "GbOAQfB0gZhe"
      }
    },
    {
      "cell_type": "code",
      "source": [
        "print(arr[1:5:])"
      ],
      "metadata": {
        "id": "QbaTiocEgZhe",
        "colab": {
          "base_uri": "https://localhost:8080/"
        },
        "outputId": "0afc8f93-1fa1-41d0-f548-cf36a4537a04"
      },
      "execution_count": 27,
      "outputs": [
        {
          "output_type": "stream",
          "name": "stdout",
          "text": [
            "[2 3 4 5]\n"
          ]
        }
      ]
    },
    {
      "cell_type": "markdown",
      "source": [
        "### Inténtalo tú mismo\n",
        "\n",
        "Imprime los elementos pares en el array dado.\n"
      ],
      "metadata": {
        "id": "ySoMDv87gZhe"
      }
    },
    {
      "cell_type": "code",
      "source": [
        "arr = np.array([1, 2, 3, 4, 5, 6, 7, 8])\n",
        "\n",
        "# Escriba aquí su solución\n",
        "print(arr[1:8:2])"
      ],
      "metadata": {
        "id": "d82yoF0lgZhe",
        "colab": {
          "base_uri": "https://localhost:8080/"
        },
        "outputId": "e1cec814-e442-4e44-9244-fa3606fea759"
      },
      "execution_count": 28,
      "outputs": [
        {
          "output_type": "stream",
          "name": "stdout",
          "text": [
            "[2 4 6 8]\n"
          ]
        }
      ]
    },
    {
      "cell_type": "markdown",
      "source": [
        "<h3 id=\"list\">Asignar Valor con Listas</h3>\n"
      ],
      "metadata": {
        "id": "1IoZkhPqgZhf"
      }
    },
    {
      "cell_type": "markdown",
      "source": [
        "De manera similar, podemos usar una lista para seleccionar más de un índice específico.\n",
        "La lista `select` contiene varios valores:\n"
      ],
      "metadata": {
        "id": "ejqZcSSOgZhf"
      }
    },
    {
      "cell_type": "code",
      "source": [
        "# Creamos los índices de la lista\n",
        "\n",
        "select = [0, 2, 3, 4]\n",
        "select"
      ],
      "metadata": {
        "id": "ALIkeYLIgZhf",
        "colab": {
          "base_uri": "https://localhost:8080/"
        },
        "outputId": "f1a4bde8-f972-458e-8d58-f3d3075322c9"
      },
      "execution_count": 29,
      "outputs": [
        {
          "output_type": "execute_result",
          "data": {
            "text/plain": [
              "[0, 2, 3, 4]"
            ]
          },
          "metadata": {},
          "execution_count": 29
        }
      ]
    },
    {
      "cell_type": "markdown",
      "source": [
        "Podemos usar la lista como argumento entre paréntesis. El resultado son los elementos correspondientes a los índices concretos:\n"
      ],
      "metadata": {
        "id": "Z4PKYd1tgZhf"
      }
    },
    {
      "cell_type": "code",
      "source": [
        "# Usamos la lista para seleccionar elementos\n",
        "\n",
        "d = c[select]\n",
        "d"
      ],
      "metadata": {
        "id": "LneqcJ8ZgZhf",
        "colab": {
          "base_uri": "https://localhost:8080/"
        },
        "outputId": "f490e47f-de25-459a-e1de-df2263f24ca1"
      },
      "execution_count": 30,
      "outputs": [
        {
          "output_type": "execute_result",
          "data": {
            "text/plain": [
              "array([100,   2, 300, 400])"
            ]
          },
          "metadata": {},
          "execution_count": 30
        }
      ]
    },
    {
      "cell_type": "markdown",
      "source": [
        "Podemos asignar a los elementos especificados un nuevo valor. Por ejemplo, podemos asignar los valores a 100 000 de la siguiente manera:\n"
      ],
      "metadata": {
        "id": "FHpHcI4ugZhf"
      }
    },
    {
      "cell_type": "code",
      "source": [
        "# Asignamos a los elementos especificados un nuevo valor\n",
        "\n",
        "c[select] = 100000\n",
        "c"
      ],
      "metadata": {
        "id": "Alr5_RkxgZhg",
        "colab": {
          "base_uri": "https://localhost:8080/"
        },
        "outputId": "2b81d6c5-bb53-4c7b-c24f-c89a68ac02ef"
      },
      "execution_count": 31,
      "outputs": [
        {
          "output_type": "execute_result",
          "data": {
            "text/plain": [
              "array([100000,      1, 100000, 100000, 100000])"
            ]
          },
          "metadata": {},
          "execution_count": 31
        }
      ]
    },
    {
      "cell_type": "markdown",
      "source": [
        "<h3 id=\"other\">Otros Atributos</h3>\n"
      ],
      "metadata": {
        "id": "_j4fNBhAgZhg"
      }
    },
    {
      "cell_type": "markdown",
      "source": [
        "Vamos a revisar algunos atributos básicas de los arrays usando el array <code>a</code>:\n"
      ],
      "metadata": {
        "id": "WrF2-dhagZhg"
      }
    },
    {
      "cell_type": "code",
      "source": [
        "# Creamos un array numpy\n",
        "\n",
        "a = np.array([0, 1, 2, 3, 4])\n",
        "a"
      ],
      "metadata": {
        "id": "DxtnQwdagZhg",
        "colab": {
          "base_uri": "https://localhost:8080/"
        },
        "outputId": "3d2a67b5-f6a3-4c52-98f4-3b45ea06e4c3"
      },
      "execution_count": 32,
      "outputs": [
        {
          "output_type": "execute_result",
          "data": {
            "text/plain": [
              "array([0, 1, 2, 3, 4])"
            ]
          },
          "metadata": {},
          "execution_count": 32
        }
      ]
    },
    {
      "cell_type": "markdown",
      "source": [
        "El atributo <code>size</code> es el número de elementos en el array:\n"
      ],
      "metadata": {
        "id": "uA-jeT2EgZhh"
      }
    },
    {
      "cell_type": "code",
      "source": [
        "# Obtenemos el tamaño del array numpy\n",
        "\n",
        "a.size"
      ],
      "metadata": {
        "id": "FMgbRhqBgZhh",
        "colab": {
          "base_uri": "https://localhost:8080/"
        },
        "outputId": "eb7c0661-efd9-4436-e180-8386a773e43e"
      },
      "execution_count": 33,
      "outputs": [
        {
          "output_type": "execute_result",
          "data": {
            "text/plain": [
              "5"
            ]
          },
          "metadata": {},
          "execution_count": 33
        }
      ]
    },
    {
      "cell_type": "markdown",
      "source": [
        "Los siguientes dos atributos tendrán más sentido cuando lleguemos a dimensiones más altas, pero repasémoslos. El atributo <code>ndim</code> representa el número de dimensiones del array o el rango del array. En este caso, uno:\n"
      ],
      "metadata": {
        "id": "-StOXNqugZhh"
      }
    },
    {
      "cell_type": "code",
      "source": [
        "# Obtenemos el número de dimensiones del array numpy\n",
        "\n",
        "a.ndim"
      ],
      "metadata": {
        "id": "8ga08ujRgZhi",
        "colab": {
          "base_uri": "https://localhost:8080/"
        },
        "outputId": "4b25aa4c-fd50-4b07-c71f-c321ed65250c"
      },
      "execution_count": 34,
      "outputs": [
        {
          "output_type": "execute_result",
          "data": {
            "text/plain": [
              "1"
            ]
          },
          "metadata": {},
          "execution_count": 34
        }
      ]
    },
    {
      "cell_type": "markdown",
      "source": [
        "El atributo <code>shape</code> es una tupla de enteros que indica el tamaño del array en cada dimensión:\n"
      ],
      "metadata": {
        "id": "iJbRC11ogZhi"
      }
    },
    {
      "cell_type": "code",
      "source": [
        "# Obtenemos la forma o el tamaño del array numpy\n",
        "\n",
        "a.shape"
      ],
      "metadata": {
        "id": "1GMWK_ATgZhi",
        "colab": {
          "base_uri": "https://localhost:8080/"
        },
        "outputId": "f0f08544-ce46-4020-b09b-f451703b24cb"
      },
      "execution_count": 35,
      "outputs": [
        {
          "output_type": "execute_result",
          "data": {
            "text/plain": [
              "(5,)"
            ]
          },
          "metadata": {},
          "execution_count": 35
        }
      ]
    },
    {
      "cell_type": "markdown",
      "source": [
        "### Inténtalo tú mismo\n",
        "\n",
        "Descubre el tamaño, la dimensión y la forma del array dado **b**\n"
      ],
      "metadata": {
        "id": "VlgQn2ZngZhi"
      }
    },
    {
      "cell_type": "code",
      "source": [
        "b = np.array([10, 20, 30, 40, 50, 60, 70])\n",
        "\n",
        "# Escriba aquí su solución"
      ],
      "metadata": {
        "id": "geMCOY0ZgZhi"
      },
      "execution_count": 37,
      "outputs": []
    },
    {
      "cell_type": "code",
      "source": [
        "b.size #NUMERO DE ELEMENTOS EN EL ARRAY DE ARRIBA"
      ],
      "metadata": {
        "colab": {
          "base_uri": "https://localhost:8080/"
        },
        "id": "bjpnUTcPVkVg",
        "outputId": "a5b9375e-00a7-47cd-c7d1-9fba6c2dfa82"
      },
      "execution_count": 40,
      "outputs": [
        {
          "output_type": "execute_result",
          "data": {
            "text/plain": [
              "7"
            ]
          },
          "metadata": {},
          "execution_count": 40
        }
      ]
    },
    {
      "cell_type": "code",
      "source": [
        "b.ndim #NUMERO DE DIMENSIONES ?"
      ],
      "metadata": {
        "colab": {
          "base_uri": "https://localhost:8080/"
        },
        "id": "VG-K7FR1Vs40",
        "outputId": "e8d37e20-c1e5-4e4c-f5f8-6f8e2933589a"
      },
      "execution_count": 42,
      "outputs": [
        {
          "output_type": "execute_result",
          "data": {
            "text/plain": [
              "1"
            ]
          },
          "metadata": {},
          "execution_count": 42
        }
      ]
    },
    {
      "cell_type": "code",
      "source": [
        "b.shape #LA FORMA O EL TAMAÑO"
      ],
      "metadata": {
        "colab": {
          "base_uri": "https://localhost:8080/"
        },
        "id": "R-F2K4xKV6tS",
        "outputId": "39d236fd-5f43-43cd-8761-878216677bec"
      },
      "execution_count": 44,
      "outputs": [
        {
          "output_type": "execute_result",
          "data": {
            "text/plain": [
              "(7,)"
            ]
          },
          "metadata": {},
          "execution_count": 44
        }
      ]
    },
    {
      "cell_type": "markdown",
      "source": [
        "### Funciones Estadísticas de Numpy\n"
      ],
      "metadata": {
        "id": "Zz4x_rD9gZhj"
      }
    },
    {
      "cell_type": "code",
      "source": [
        "# Creamos un array numpy\n",
        "\n",
        "a = np.array([1, -1, 1, -1])"
      ],
      "metadata": {
        "id": "Lsm8_O2ZgZhj"
      },
      "execution_count": 45,
      "outputs": []
    },
    {
      "cell_type": "code",
      "source": [
        "# Obtenemos la media del array numpy\n",
        "\n",
        "mean = a.mean()\n",
        "mean"
      ],
      "metadata": {
        "id": "NOdpzmpMgZhj",
        "colab": {
          "base_uri": "https://localhost:8080/"
        },
        "outputId": "3bf6a0db-789e-4960-bec0-b165063387fe"
      },
      "execution_count": 46,
      "outputs": [
        {
          "output_type": "execute_result",
          "data": {
            "text/plain": [
              "0.0"
            ]
          },
          "metadata": {},
          "execution_count": 46
        }
      ]
    },
    {
      "cell_type": "code",
      "source": [
        "# Obtenemos la desviación estándar del array numpy\n",
        "\n",
        "standard_deviation=a.std()\n",
        "standard_deviation"
      ],
      "metadata": {
        "id": "3Rjw66bVgZhj",
        "colab": {
          "base_uri": "https://localhost:8080/"
        },
        "outputId": "7fa142ad-bb02-4626-dfc1-7189b79b6717"
      },
      "execution_count": 47,
      "outputs": [
        {
          "output_type": "execute_result",
          "data": {
            "text/plain": [
              "1.0"
            ]
          },
          "metadata": {},
          "execution_count": 47
        }
      ]
    },
    {
      "cell_type": "code",
      "source": [
        "# Creamos un array numpy\n",
        "\n",
        "b = np.array([-1, 2, 3, 4, 5])\n",
        "b"
      ],
      "metadata": {
        "id": "ZfOkdT74gZhj",
        "colab": {
          "base_uri": "https://localhost:8080/"
        },
        "outputId": "73cf960a-5233-4b55-a236-d59de08be012"
      },
      "execution_count": 48,
      "outputs": [
        {
          "output_type": "execute_result",
          "data": {
            "text/plain": [
              "array([-1,  2,  3,  4,  5])"
            ]
          },
          "metadata": {},
          "execution_count": 48
        }
      ]
    },
    {
      "cell_type": "code",
      "source": [
        "# Obtenemos el valor más grande en el array numpy\n",
        "\n",
        "max_b = b.max()\n",
        "max_b"
      ],
      "metadata": {
        "id": "4gM6JGW1gZhk",
        "colab": {
          "base_uri": "https://localhost:8080/"
        },
        "outputId": "994f8a37-61ac-4776-9a1d-ef24d220c270"
      },
      "execution_count": 49,
      "outputs": [
        {
          "output_type": "execute_result",
          "data": {
            "text/plain": [
              "5"
            ]
          },
          "metadata": {},
          "execution_count": 49
        }
      ]
    },
    {
      "cell_type": "code",
      "source": [
        "# Obtenemos el valor más pequeño en el array numpy\n",
        "\n",
        "min_b = b.min()\n",
        "min_b"
      ],
      "metadata": {
        "id": "W4s9KEk1gZhk",
        "colab": {
          "base_uri": "https://localhost:8080/"
        },
        "outputId": "1cd3fda1-41a9-43c6-db2b-65944b6a0435"
      },
      "execution_count": 50,
      "outputs": [
        {
          "output_type": "execute_result",
          "data": {
            "text/plain": [
              "-1"
            ]
          },
          "metadata": {},
          "execution_count": 50
        }
      ]
    },
    {
      "cell_type": "markdown",
      "source": [
        "### Inténtalo tú mismo\n",
        "\n",
        "Descubre la suma del valor máximo y mínimo en el array numpy dado.\n"
      ],
      "metadata": {
        "id": "6baE8pJegZhk"
      }
    },
    {
      "cell_type": "markdown",
      "source": [
        "<hr>\n"
      ],
      "metadata": {
        "id": "gedEiXJAgZhk"
      }
    },
    {
      "cell_type": "code",
      "source": [
        "c = np.array([-10, 201, 43, 94, 502])\n",
        "\n",
        "# Escriba aquí su solución\n",
        "c_min=c.min()\n",
        "c_max=c.max()\n",
        "suma = c_min + c_max\n",
        "print(suma)"
      ],
      "metadata": {
        "id": "wHNQhuaagZhk",
        "colab": {
          "base_uri": "https://localhost:8080/"
        },
        "outputId": "7ad07c86-47c3-47f2-9031-9b651b839cb9"
      },
      "execution_count": 53,
      "outputs": [
        {
          "output_type": "stream",
          "name": "stdout",
          "text": [
            "492\n"
          ]
        }
      ]
    },
    {
      "cell_type": "markdown",
      "source": [
        "<h2 id=\"op\">Operaciones con Array Numpy</h2>\n",
        "\n",
        "Podríamos usar operadores aritméticos directamente entre arrays NumPy\n"
      ],
      "metadata": {
        "id": "8wNGAG-TgZhl"
      }
    },
    {
      "cell_type": "markdown",
      "source": [
        "<h3 id=\"add\">Suma de Arrays</h3>\n"
      ],
      "metadata": {
        "id": "q4kQoEG_gZhl"
      }
    },
    {
      "cell_type": "markdown",
      "source": [
        "Observamos el array numpy <code>u</code>:\n"
      ],
      "metadata": {
        "id": "l6h3HjXwgZhl"
      }
    },
    {
      "cell_type": "code",
      "source": [
        "u = np.array([1, 0])\n",
        "u"
      ],
      "metadata": {
        "id": "YleT4M-XgZhl",
        "colab": {
          "base_uri": "https://localhost:8080/"
        },
        "outputId": "49b71bf7-40b0-4649-bd35-cb180cbfb11e"
      },
      "execution_count": 54,
      "outputs": [
        {
          "output_type": "execute_result",
          "data": {
            "text/plain": [
              "array([1, 0])"
            ]
          },
          "metadata": {},
          "execution_count": 54
        }
      ]
    },
    {
      "cell_type": "markdown",
      "source": [
        "Observamos el array numpy <code>v</code>:\n"
      ],
      "metadata": {
        "id": "agKUOWMugZhl"
      }
    },
    {
      "cell_type": "code",
      "source": [
        "v = np.array([0, 1])\n",
        "v"
      ],
      "metadata": {
        "id": "PDbax1pMgZhm",
        "colab": {
          "base_uri": "https://localhost:8080/"
        },
        "outputId": "8b623bdf-2512-4ae2-885e-9a8eb99cdf9f"
      },
      "execution_count": 55,
      "outputs": [
        {
          "output_type": "execute_result",
          "data": {
            "text/plain": [
              "array([0, 1])"
            ]
          },
          "metadata": {},
          "execution_count": 55
        }
      ]
    },
    {
      "cell_type": "markdown",
      "source": [
        "Podemos sumar los dos arrays y asignarlas a z:\n"
      ],
      "metadata": {
        "id": "-v5xwjuHgZhm"
      }
    },
    {
      "cell_type": "code",
      "source": [
        "# Suma de Arrays Numpy\n",
        "\n",
        "z = np.add(u, v)\n",
        "z\n"
      ],
      "metadata": {
        "id": "MDJ7dseUgZhm",
        "colab": {
          "base_uri": "https://localhost:8080/"
        },
        "outputId": "c8f8166f-6b14-46e3-8456-9e7a1a271312"
      },
      "execution_count": 56,
      "outputs": [
        {
          "output_type": "execute_result",
          "data": {
            "text/plain": [
              "array([1, 1])"
            ]
          },
          "metadata": {},
          "execution_count": 56
        }
      ]
    },
    {
      "cell_type": "markdown",
      "source": [
        "La operación es equivalente a la suma de vectores:\n"
      ],
      "metadata": {
        "id": "b0ItYGLzgZhm"
      }
    },
    {
      "cell_type": "code",
      "source": [
        "# Trazando Funciones\n",
        "\n",
        "\n",
        "import time\n",
        "import sys\n",
        "import numpy as np\n",
        "\n",
        "import matplotlib.pyplot as plt\n",
        "%matplotlib inline\n",
        "\n",
        "def Plotvec1(u, z, v):\n",
        "\n",
        "    ax = plt.axes() # generamos los ejes de la ventana completa\n",
        "    ax.arrow(0, 0, *u, head_width=0.05, color='r', head_length=0.1)# Añadimos una flecha a los ejes U con un ancho de punta de flecha de 0,05, color rojo y una longitud de punta de flecha de 0,1\n",
        "    plt.text(*(u + 0.1), 'u')#Añadimos el texto u a los Ejes\n",
        "\n",
        "    ax.arrow(0, 0, *v, head_width=0.05, color='b', head_length=0.1)# Añadimos una flecha a los ejes V con un ancho de punta de flecha de 0,05, color azul y una longitud de punta de flecha de 0,1\n",
        "    plt.text(*(v + 0.1), 'v')#Añadimos el texto v a los Ejes\n",
        "\n",
        "    ax.arrow(0, 0, *z, head_width=0.05, head_length=0.1)# Añadimos una flecha a los ejes Z con un ancho de punta de flecha de 0,05 y una longitud de punta de flecha de 0,1\n",
        "    plt.text(*(z + 0.1), 'z')#Añadimos el texto z a los Ejes\n",
        "    plt.ylim(-2, 2)#Establecemos el ylim en bottom(-2), top(2)\n",
        "    plt.xlim(-2, 2)#Establecemos el xlim en left(-2), right(2)\n",
        "\n",
        "\n"
      ],
      "metadata": {
        "id": "tXx37geagZhm"
      },
      "execution_count": 57,
      "outputs": []
    },
    {
      "cell_type": "code",
      "source": [
        "# Trazamos arrays numpy\n",
        "\n",
        "Plotvec1(u, z, v)"
      ],
      "metadata": {
        "id": "mkYqeXpXgZhn",
        "colab": {
          "base_uri": "https://localhost:8080/",
          "height": 435
        },
        "outputId": "b1adffb7-5eb6-46bb-fb32-63c733ecd3f0"
      },
      "execution_count": 58,
      "outputs": [
        {
          "output_type": "display_data",
          "data": {
            "text/plain": [
              "<Figure size 640x480 with 1 Axes>"
            ],
            "image/png": "[encoded data removed]"
          },
          "metadata": {}
        }
      ]
    },
    {
      "cell_type": "markdown",
      "source": [
        "### Inténtalo tú mismo\n",
        "\n",
        "Realiza la suma de los array numpy dados arr1 y arr2:\n"
      ],
      "metadata": {
        "id": "khZIizD1gZhn"
      }
    },
    {
      "cell_type": "code",
      "source": [
        "arr1 = np.array([10, 11, 12, 13, 14, 15])\n",
        "arr2 = np.array([20, 21, 22, 23, 24, 25])\n",
        "\n",
        "# Escriba aquí su solución\n",
        "arr3 = np.add(arr1, arr2)\n",
        "arr3"
      ],
      "metadata": {
        "id": "JF9FmJ2CgZhn",
        "colab": {
          "base_uri": "https://localhost:8080/"
        },
        "outputId": "9982bf7b-0267-4b8c-8698-dad99c8e4bf9"
      },
      "execution_count": 67,
      "outputs": [
        {
          "output_type": "execute_result",
          "data": {
            "text/plain": [
              "array([30, 32, 34, 36, 38, 40])"
            ]
          },
          "metadata": {},
          "execution_count": 67
        }
      ]
    },
    {
      "cell_type": "markdown",
      "source": [
        "### Resta de Arrays\n"
      ],
      "metadata": {
        "id": "9k1RKfeAgZho"
      }
    },
    {
      "cell_type": "markdown",
      "source": [
        "Observamos el array numpy a:\n"
      ],
      "metadata": {
        "id": "wsGYKjgegZhp"
      }
    },
    {
      "cell_type": "code",
      "source": [
        "a = np.array([10, 20, 30])\n",
        "a"
      ],
      "metadata": {
        "id": "BRQ3Nle6gZhq",
        "colab": {
          "base_uri": "https://localhost:8080/"
        },
        "outputId": "e36a60f8-a8d4-4e9f-d810-777becadfa9f"
      },
      "execution_count": 68,
      "outputs": [
        {
          "output_type": "execute_result",
          "data": {
            "text/plain": [
              "array([10, 20, 30])"
            ]
          },
          "metadata": {},
          "execution_count": 68
        }
      ]
    },
    {
      "cell_type": "markdown",
      "source": [
        "Observamos el array numpy b:\n"
      ],
      "metadata": {
        "id": "MD5MGsTXgZhq"
      }
    },
    {
      "cell_type": "code",
      "source": [
        "b = np.array([5, 10, 15])\n",
        "b"
      ],
      "metadata": {
        "id": "tZwN-UjPgZhq",
        "colab": {
          "base_uri": "https://localhost:8080/"
        },
        "outputId": "98845f4d-0109-41e4-f6fb-94d46e56167f"
      },
      "execution_count": 69,
      "outputs": [
        {
          "output_type": "execute_result",
          "data": {
            "text/plain": [
              "array([ 5, 10, 15])"
            ]
          },
          "metadata": {},
          "execution_count": 69
        }
      ]
    },
    {
      "cell_type": "markdown",
      "source": [
        "Podemos restar los dos arrays y asignarlos a c:\n"
      ],
      "metadata": {
        "id": "TlsRg_E3gZhq"
      }
    },
    {
      "cell_type": "code",
      "source": [
        "c = np.subtract(a, b)\n",
        "\n",
        "print(c)"
      ],
      "metadata": {
        "id": "hOUSuBangZhq",
        "colab": {
          "base_uri": "https://localhost:8080/"
        },
        "outputId": "feaf4bb4-a00f-493c-e3a1-e993a07d1c6b"
      },
      "execution_count": 70,
      "outputs": [
        {
          "output_type": "stream",
          "name": "stdout",
          "text": [
            "[ 5 10 15]\n"
          ]
        }
      ]
    },
    {
      "cell_type": "markdown",
      "source": [
        "### Inténtalo tú mismo\n",
        "\n",
        "Realiza la resta de los array numpy dados arr1 y arr2:\n"
      ],
      "metadata": {
        "id": "UE_8S1tsgZhq"
      }
    },
    {
      "cell_type": "code",
      "source": [
        "arr1 = np.array([10, 20, 30, 40, 50, 60])\n",
        "arr2 = np.array([20, 21, 22, 23, 24, 25])\n",
        "\n",
        "# Escriba aquí su solución\n",
        "arr3 = np.subtract(arr1, arr2)\n",
        "print(arr3)"
      ],
      "metadata": {
        "id": "k6fKz9xSgZhr",
        "colab": {
          "base_uri": "https://localhost:8080/"
        },
        "outputId": "7aa4e575-d567-43ab-cfac-421afeb6f86a"
      },
      "execution_count": 72,
      "outputs": [
        {
          "output_type": "stream",
          "name": "stdout",
          "text": [
            "[-10  -1   8  17  26  35]\n"
          ]
        }
      ]
    },
    {
      "cell_type": "markdown",
      "source": [
        "<h3 id=\"multi\">Multiplicación de Arrays</h3>\n"
      ],
      "metadata": {
        "id": "p_34FywagZhr"
      }
    },
    {
      "cell_type": "markdown",
      "source": [
        "Observamos el array numpy vectorial <code>y</code>:\n"
      ],
      "metadata": {
        "id": "NgiEn61EgZhr"
      }
    },
    {
      "cell_type": "code",
      "source": [
        "# Creamos un array numpy\n",
        "\n",
        "x = np.array([1, 2])\n",
        "x"
      ],
      "metadata": {
        "id": "kHWL98V-gZhr",
        "colab": {
          "base_uri": "https://localhost:8080/"
        },
        "outputId": "1098f97f-7319-4ac3-b26a-d2891d156291"
      },
      "execution_count": 73,
      "outputs": [
        {
          "output_type": "execute_result",
          "data": {
            "text/plain": [
              "array([1, 2])"
            ]
          },
          "metadata": {},
          "execution_count": 73
        }
      ]
    },
    {
      "cell_type": "code",
      "source": [
        "# Creamos un array numpy\n",
        "\n",
        "y = np.array([2, 1])\n",
        "y"
      ],
      "metadata": {
        "id": "SnHFA63bgZhr",
        "colab": {
          "base_uri": "https://localhost:8080/"
        },
        "outputId": "ce51ee72-15f7-4769-e03e-ab3a3a949356"
      },
      "execution_count": 74,
      "outputs": [
        {
          "output_type": "execute_result",
          "data": {
            "text/plain": [
              "array([2, 1])"
            ]
          },
          "metadata": {},
          "execution_count": 74
        }
      ]
    },
    {
      "cell_type": "markdown",
      "source": [
        "Podemos multiplicar cada elemento de la matriz por 2:\n"
      ],
      "metadata": {
        "id": "7yhtMqpmgZhs"
      }
    },
    {
      "cell_type": "code",
      "source": [
        "# Multiplicación de Arrays Numpy\n",
        "\n",
        "z = np.multiply(x, y)\n",
        "z"
      ],
      "metadata": {
        "id": "RGyAO53IgZhs",
        "colab": {
          "base_uri": "https://localhost:8080/"
        },
        "outputId": "ef987ed8-7447-4c82-a1d8-edabde402b55"
      },
      "execution_count": 75,
      "outputs": [
        {
          "output_type": "execute_result",
          "data": {
            "text/plain": [
              "array([2, 2])"
            ]
          },
          "metadata": {},
          "execution_count": 75
        }
      ]
    },
    {
      "cell_type": "markdown",
      "source": [
        "Esto es equivalente a multiplicar un vector por un scalar:\n"
      ],
      "metadata": {
        "id": "Fz9eg1FHgZhs"
      }
    },
    {
      "cell_type": "markdown",
      "source": [
        "### Inténtalo tú mismo\n",
        "\n",
        "Realiza la multiplicación de los arrays numpy dados arr1 y arr2:\n"
      ],
      "metadata": {
        "id": "_4PME-tGgZhs"
      }
    },
    {
      "cell_type": "code",
      "source": [
        "arr1 = np.array([10, 20, 30, 40, 50, 60])\n",
        "arr2 = np.array([2, 1, 2, 3, 4, 5])\n",
        "\n",
        "# Escriba aquí su solución\n",
        "arr3 = np.multiply(arr1,arr2)\n",
        "arr3"
      ],
      "metadata": {
        "id": "ChqNnbKzgZhs",
        "colab": {
          "base_uri": "https://localhost:8080/"
        },
        "outputId": "161c09ae-ee1b-4a19-a9b7-6c6703d42ce7"
      },
      "execution_count": 77,
      "outputs": [
        {
          "output_type": "execute_result",
          "data": {
            "text/plain": [
              "array([ 20,  20,  60, 120, 200, 300])"
            ]
          },
          "metadata": {},
          "execution_count": 77
        }
      ]
    },
    {
      "cell_type": "markdown",
      "source": [
        "### División de Arrays\n"
      ],
      "metadata": {
        "id": "bYl1PqpbgZht"
      }
    },
    {
      "cell_type": "markdown",
      "source": [
        "Observamos el array numpy vectorial a:\n"
      ],
      "metadata": {
        "id": "opnuIwY5gZht"
      }
    },
    {
      "cell_type": "code",
      "source": [
        "a = np.array([10, 20, 30])\n",
        "a"
      ],
      "metadata": {
        "id": "hlmGNSsLgZht",
        "colab": {
          "base_uri": "https://localhost:8080/"
        },
        "outputId": "daea2e77-1de0-45b7-c4a7-1c348496f5e6"
      },
      "execution_count": 78,
      "outputs": [
        {
          "output_type": "execute_result",
          "data": {
            "text/plain": [
              "array([10, 20, 30])"
            ]
          },
          "metadata": {},
          "execution_count": 78
        }
      ]
    },
    {
      "cell_type": "markdown",
      "source": [
        "Observamos el array numpy vectorial b:\n"
      ],
      "metadata": {
        "id": "zDT_qII7gZht"
      }
    },
    {
      "cell_type": "code",
      "source": [
        "b = np.array([2, 10, 5])\n",
        "b"
      ],
      "metadata": {
        "id": "M3x1x5YTgZht",
        "colab": {
          "base_uri": "https://localhost:8080/"
        },
        "outputId": "5b1b040a-9c90-4e38-cd71-d0da0cb4d214"
      },
      "execution_count": 79,
      "outputs": [
        {
          "output_type": "execute_result",
          "data": {
            "text/plain": [
              "array([ 2, 10,  5])"
            ]
          },
          "metadata": {},
          "execution_count": 79
        }
      ]
    },
    {
      "cell_type": "markdown",
      "source": [
        "Podemos dividir los dos arrays y asignarlos a c:\n"
      ],
      "metadata": {
        "id": "VGanfA7tgZhu"
      }
    },
    {
      "cell_type": "code",
      "source": [
        "c = np.divide(a, b)\n",
        "c"
      ],
      "metadata": {
        "id": "5D543FHxgZhu",
        "colab": {
          "base_uri": "https://localhost:8080/"
        },
        "outputId": "d08187dc-a6e9-4d65-b3e0-5b8ecdbbb383"
      },
      "execution_count": 80,
      "outputs": [
        {
          "output_type": "execute_result",
          "data": {
            "text/plain": [
              "array([5., 2., 6.])"
            ]
          },
          "metadata": {},
          "execution_count": 80
        }
      ]
    },
    {
      "cell_type": "markdown",
      "source": [
        "### Inténtalo tú mismo\n",
        "\n",
        "Realiza la división de los arrays numpy dados arr1 y arr2:\n"
      ],
      "metadata": {
        "id": "79foH2hcgZhu"
      }
    },
    {
      "cell_type": "code",
      "source": [
        "arr1 = np.array([10, 20, 30, 40, 50, 60])\n",
        "arr2 = np.array([3, 5, 10, 8, 2, 33])\n",
        "\n",
        "# Escriba aquí su solución\n",
        "arr3 = np.divide(arr1,arr2)\n",
        "arr3"
      ],
      "metadata": {
        "id": "7T9LcDGFgZhu",
        "colab": {
          "base_uri": "https://localhost:8080/"
        },
        "outputId": "8f788e69-7931-4681-f3ab-535733f5d1e9"
      },
      "execution_count": 81,
      "outputs": [
        {
          "output_type": "execute_result",
          "data": {
            "text/plain": [
              "array([ 3.33333333,  4.        ,  3.        ,  5.        , 25.        ,\n",
              "        1.81818182])"
            ]
          },
          "metadata": {},
          "execution_count": 81
        }
      ]
    },
    {
      "cell_type": "markdown",
      "source": [
        "<h3 id=\"dot\">Producto Escalar</h3>\n"
      ],
      "metadata": {
        "id": "FacPh3iYgZhv"
      }
    },
    {
      "cell_type": "markdown",
      "source": [
        "El producto escalar de los dos array numpy <code>u</code> y <code>v</code> viene dado por:\n"
      ],
      "metadata": {
        "id": "F5eCyTLKgZhv"
      }
    },
    {
      "cell_type": "code",
      "source": [
        "X = np.array([1, 2])\n",
        "Y = np.array([3, 2])"
      ],
      "metadata": {
        "id": "5aMAGQCjgZhv"
      },
      "execution_count": 82,
      "outputs": []
    },
    {
      "cell_type": "code",
      "source": [
        "# Calculamos el producto escalar\n",
        "\n",
        "np.dot(X, Y)"
      ],
      "metadata": {
        "id": "n2qOFGvfgZhv",
        "colab": {
          "base_uri": "https://localhost:8080/"
        },
        "outputId": "20f91904-c352-4735-acab-a1d8bfdc32b1"
      },
      "execution_count": 83,
      "outputs": [
        {
          "output_type": "execute_result",
          "data": {
            "text/plain": [
              "7"
            ]
          },
          "metadata": {},
          "execution_count": 83
        }
      ]
    },
    {
      "cell_type": "code",
      "source": [
        "#Elementos de X\n",
        "print(X[0])\n",
        "print(X[1])"
      ],
      "metadata": {
        "id": "rBaugzCfgZhv",
        "colab": {
          "base_uri": "https://localhost:8080/"
        },
        "outputId": "52c119cf-e1be-4ede-e8ea-ca2932b615a0"
      },
      "execution_count": 84,
      "outputs": [
        {
          "output_type": "stream",
          "name": "stdout",
          "text": [
            "1\n",
            "2\n"
          ]
        }
      ]
    },
    {
      "cell_type": "code",
      "source": [
        "#Elementos de Y\n",
        "print(Y[0])\n",
        "print(Y[1])"
      ],
      "metadata": {
        "id": "9DunLhOBgZhv",
        "colab": {
          "base_uri": "https://localhost:8080/"
        },
        "outputId": "3c99420c-a4a4-4c4f-c9be-e2223fb55c09"
      },
      "execution_count": 85,
      "outputs": [
        {
          "output_type": "stream",
          "name": "stdout",
          "text": [
            "3\n",
            "2\n"
          ]
        }
      ]
    },
    {
      "cell_type": "markdown",
      "source": [
        "Estamos realizando el producto escalar que se muestra a continuación\n"
      ],
      "metadata": {
        "id": "uCXW5E4ngZhv"
      }
    },
    {
      "cell_type": "markdown",
      "source": [
        "<img src =\"https://cf-courses-data.s3.us.cloud-object-storage.appdomain.cloud/IBMDeveloperSkillsNetwork-PY0101EN-SkillsNetwork/labs/Module%205/images/dot1.png\"/>\n"
      ],
      "metadata": {
        "id": "dK37q9FWgZhw"
      }
    },
    {
      "cell_type": "markdown",
      "source": [
        "### Inténtalo tú mismo\n",
        "\n",
        "Realiza el producto escalar de los array numpy dados ar1 y ar2:\n"
      ],
      "metadata": {
        "id": "zMazZ_6hgZhw"
      }
    },
    {
      "cell_type": "code",
      "source": [
        "arr1 = np.array([3, 5])\n",
        "arr2 = np.array([2, 4])\n",
        "\n",
        "# Escriba aquí su solución\n",
        "np.dot(arr1, arr2)"
      ],
      "metadata": {
        "id": "c9fcQFaLgZhw",
        "colab": {
          "base_uri": "https://localhost:8080/"
        },
        "outputId": "a8e98e72-f7eb-4688-c2c7-731eb74da784"
      },
      "execution_count": 86,
      "outputs": [
        {
          "output_type": "execute_result",
          "data": {
            "text/plain": [
              "26"
            ]
          },
          "metadata": {},
          "execution_count": 86
        }
      ]
    },
    {
      "cell_type": "markdown",
      "source": [
        "<h3 id=\"cons\">Añadir una Constante a un Array Numpy</h3>\n"
      ],
      "metadata": {
        "id": "1t5gzCwEgZhw"
      }
    },
    {
      "cell_type": "markdown",
      "source": [
        "Observamos el siguiente array:\n"
      ],
      "metadata": {
        "id": "QUVvkV_igZhw"
      }
    },
    {
      "cell_type": "code",
      "source": [
        "# Creamos una constante en un array numpy\n",
        "\n",
        "u = np.array([1, 2, 3, -1])\n",
        "u"
      ],
      "metadata": {
        "id": "JqIdGisQgZhw",
        "colab": {
          "base_uri": "https://localhost:8080/"
        },
        "outputId": "fa5f66d5-5cdf-4b2e-b77a-d963afb2a59d"
      },
      "execution_count": 87,
      "outputs": [
        {
          "output_type": "execute_result",
          "data": {
            "text/plain": [
              "array([ 1,  2,  3, -1])"
            ]
          },
          "metadata": {},
          "execution_count": 87
        }
      ]
    },
    {
      "cell_type": "markdown",
      "source": [
        "Añadimos la constante 1 a cada elemento del array:\n"
      ],
      "metadata": {
        "id": "YWijFoZCgZhx"
      }
    },
    {
      "cell_type": "code",
      "source": [
        "# Añadimos la constante al array\n",
        "\n",
        "u + 1"
      ],
      "metadata": {
        "id": "62LiQbU2gZhx",
        "colab": {
          "base_uri": "https://localhost:8080/"
        },
        "outputId": "9173dbfd-a1a7-4c23-ee85-f6cb6e736b53"
      },
      "execution_count": 88,
      "outputs": [
        {
          "output_type": "execute_result",
          "data": {
            "text/plain": [
              "array([2, 3, 4, 0])"
            ]
          },
          "metadata": {},
          "execution_count": 88
        }
      ]
    },
    {
      "cell_type": "markdown",
      "source": [
        "El proceso está resumnido en la siguiente animación:\n"
      ],
      "metadata": {
        "id": "i6yfUn61gZhx"
      }
    },
    {
      "cell_type": "markdown",
      "source": [
        "<img src=\"https://cf-courses-data.s3.us.cloud-object-storage.appdomain.cloud/IBMDeveloperSkillsNetwork-PY0101EN-SkillsNetwork/labs/Module%205/images/NumOneAdd.gif\" width=\"500\" />\n"
      ],
      "metadata": {
        "id": "S4ib8_I1gZhx"
      }
    },
    {
      "cell_type": "markdown",
      "source": [
        "### Inténtalo tú mismo\n",
        "\n",
        "Añade la Constante 5 al array numpy dado ar:\n"
      ],
      "metadata": {
        "id": "f38YqrfVgZhx"
      }
    },
    {
      "cell_type": "code",
      "source": [
        "arr = np.array([1, 2, 3, -1])\n",
        "\n",
        "# Escriba aquí su solución\n",
        "arr + 5"
      ],
      "metadata": {
        "id": "ZWBswRTsgZhx",
        "colab": {
          "base_uri": "https://localhost:8080/"
        },
        "outputId": "2699f10b-7366-4268-cf98-ddc6aa5b62f3"
      },
      "execution_count": 89,
      "outputs": [
        {
          "output_type": "execute_result",
          "data": {
            "text/plain": [
              "array([6, 7, 8, 4])"
            ]
          },
          "metadata": {},
          "execution_count": 89
        }
      ]
    },
    {
      "cell_type": "markdown",
      "source": [
        "<hr>\n"
      ],
      "metadata": {
        "id": "Kd3IpGcSgZhy"
      }
    },
    {
      "cell_type": "markdown",
      "source": [
        "<h2 id=\"math\">Funciones Matemáticas</h2>\n"
      ],
      "metadata": {
        "id": "1luBeVFngZhy"
      }
    },
    {
      "cell_type": "markdown",
      "source": [
        "Podemos acceder al valor de <code>pi</code> en numpy de la siguiente manera:\n"
      ],
      "metadata": {
        "id": "XlA9hBzdgZhy"
      }
    },
    {
      "cell_type": "code",
      "source": [
        "# El valor de pi\n",
        "\n",
        "np.pi"
      ],
      "metadata": {
        "id": "JO2HWIMDgZhy",
        "colab": {
          "base_uri": "https://localhost:8080/"
        },
        "outputId": "a076ade2-c0e4-4238-c4f0-517bb88582b0"
      },
      "execution_count": 90,
      "outputs": [
        {
          "output_type": "execute_result",
          "data": {
            "text/plain": [
              "3.141592653589793"
            ]
          },
          "metadata": {},
          "execution_count": 90
        }
      ]
    },
    {
      "cell_type": "markdown",
      "source": [
        "Podemos crear la siguiente matriz numpy en Radianes:\n"
      ],
      "metadata": {
        "id": "f_9K3FalgZhz"
      }
    },
    {
      "cell_type": "code",
      "source": [
        "# Creamos el array numpy en radianes\n",
        "\n",
        "x = np.array([0, np.pi/2 , np.pi])"
      ],
      "metadata": {
        "id": "p2-aPxXggZhz"
      },
      "execution_count": 91,
      "outputs": []
    },
    {
      "cell_type": "markdown",
      "source": [
        "Podemos aplicar la función <code>sin</code> al array <code>x</code> y asignar los valores al array <code>y</code>; esto aplica la función seno a cada elemento del array:\n"
      ],
      "metadata": {
        "id": "Ps0wy4jAgZhz"
      }
    },
    {
      "cell_type": "code",
      "source": [
        "# Calculamos el seno de cada elemento\n",
        "\n",
        "y = np.sin(x)\n",
        "y"
      ],
      "metadata": {
        "id": "oOcZW4hLgZhz",
        "colab": {
          "base_uri": "https://localhost:8080/"
        },
        "outputId": "f62f5f39-b5be-40c3-de61-44506ad0ac83"
      },
      "execution_count": 92,
      "outputs": [
        {
          "output_type": "execute_result",
          "data": {
            "text/plain": [
              "array([0.0000000e+00, 1.0000000e+00, 1.2246468e-16])"
            ]
          },
          "metadata": {},
          "execution_count": 92
        }
      ]
    },
    {
      "cell_type": "markdown",
      "source": [
        "<hr>\n"
      ],
      "metadata": {
        "id": "NgGltiY4gZh0"
      }
    },
    {
      "cell_type": "markdown",
      "source": [
        "<h2 id=\"lin\">Linspace</h2>\n"
      ],
      "metadata": {
        "id": "zuJB9640gZh0"
      }
    },
    {
      "cell_type": "markdown",
      "source": [
        "Una función útil para trazar funciones matemáticas es <code>linspace</code>. Linspace devuelve números espaciados uniformemente en un intervalo específico.\n",
        "\n",
        "**numpy.linspace(start, stop, num = valor entero)**\n",
        "\n",
        "start  :  principio del rango del intervalo\n",
        "\n",
        "stop   :  final del rango del intervalo\n",
        "\n",
        "num    :  Número de muestras a generar.\n"
      ],
      "metadata": {
        "id": "SMm6AK4WgZh0"
      }
    },
    {
      "cell_type": "code",
      "source": [
        "# Construimos un array numpy de [-2, 2] y 5 elementos\n",
        "\n",
        "np.linspace(-2, 2, num=5)"
      ],
      "metadata": {
        "id": "PqnTUvfSgZh0",
        "colab": {
          "base_uri": "https://localhost:8080/"
        },
        "outputId": "7eb5ffb6-e838-4dc5-c5c2-50b81954a192"
      },
      "execution_count": 93,
      "outputs": [
        {
          "output_type": "execute_result",
          "data": {
            "text/plain": [
              "array([-2., -1.,  0.,  1.,  2.])"
            ]
          },
          "metadata": {},
          "execution_count": 93
        }
      ]
    },
    {
      "cell_type": "markdown",
      "source": [
        "Si cambiamos el parámetro <code>num</code> a 9, obtenemos 9 números espaciados uniformemente en el intervalo de -2 a 2:\n"
      ],
      "metadata": {
        "id": "mgfO7iKOgZh0"
      }
    },
    {
      "cell_type": "code",
      "source": [
        "# Construimos un array numpy de [-2, 2] y 9 elementos\n",
        "\n",
        "np.linspace(-2, 2, num=9)"
      ],
      "metadata": {
        "id": "V4vrwKEmgZh0",
        "colab": {
          "base_uri": "https://localhost:8080/"
        },
        "outputId": "580e939b-2578-4620-935b-7816ef74f7e7"
      },
      "execution_count": 94,
      "outputs": [
        {
          "output_type": "execute_result",
          "data": {
            "text/plain": [
              "array([-2. , -1.5, -1. , -0.5,  0. ,  0.5,  1. ,  1.5,  2. ])"
            ]
          },
          "metadata": {},
          "execution_count": 94
        }
      ]
    },
    {
      "cell_type": "markdown",
      "source": [
        "Podemos usar la función <code>linspace</code> para generar 100 muestras espaciadas uniformemente desde el intervalo 0 a 2π:\n"
      ],
      "metadata": {
        "id": "TxOCMKS7gZh1"
      }
    },
    {
      "cell_type": "code",
      "source": [
        "# Construimos un array numpy de [0, 2π] y 100 elementos\n",
        "\n",
        "x = np.linspace(0, 2*np.pi, num=100)"
      ],
      "metadata": {
        "id": "3GSnFfktgZh1"
      },
      "execution_count": 95,
      "outputs": []
    },
    {
      "cell_type": "markdown",
      "source": [
        "Podemos aplicar la función seno a cada elemento del array <code>x</code> y asignarla al array <code>y</code>:\n"
      ],
      "metadata": {
        "id": "MJk5MHBagZh1"
      }
    },
    {
      "cell_type": "code",
      "source": [
        "# Calculamos el seno de la lista x\n",
        "\n",
        "y = np.sin(x)"
      ],
      "metadata": {
        "id": "cfbbnntqgZh1"
      },
      "execution_count": 96,
      "outputs": []
    },
    {
      "cell_type": "code",
      "source": [
        "# Trazamos el resultado\n",
        "\n",
        "plt.plot(x, y)"
      ],
      "metadata": {
        "id": "DjD_FDbFgZh1",
        "colab": {
          "base_uri": "https://localhost:8080/",
          "height": 447
        },
        "outputId": "add34959-25c0-454a-eec8-eea5e9936c86"
      },
      "execution_count": 97,
      "outputs": [
        {
          "output_type": "execute_result",
          "data": {
            "text/plain": [
              "[<matplotlib.lines.Line2D at 0x7a5bb8250370>]"
            ]
          },
          "metadata": {},
          "execution_count": 97
        },
        {
          "output_type": "display_data",
          "data": {
            "text/plain": [
              "<Figure size 640x480 with 1 Axes>"
            ],
            "image/png": "[encoded data removed]"
          },
          "metadata": {}
        }
      ]
    },
    {
      "cell_type": "markdown",
      "source": [
        "### Inténtalo tú mismo\n",
        "\n",
        "Haz un array numpy de \\[5, 4] y 6 elementos\n"
      ],
      "metadata": {
        "id": "AY34UzFsgZh1"
      }
    },
    {
      "cell_type": "code",
      "source": [
        "# Escriba aquí su solución\n",
        "np.linspace(5, 4, num=6)"
      ],
      "metadata": {
        "id": "IbWKaLE-gZh2",
        "colab": {
          "base_uri": "https://localhost:8080/"
        },
        "outputId": "933c0b60-0ee4-4bf4-f58a-9e11411927c4"
      },
      "execution_count": 102,
      "outputs": [
        {
          "output_type": "execute_result",
          "data": {
            "text/plain": [
              "array([5. , 4.8, 4.6, 4.4, 4.2, 4. ])"
            ]
          },
          "metadata": {},
          "execution_count": 102
        }
      ]
    },
    {
      "cell_type": "markdown",
      "source": [
        "<hr>\n"
      ],
      "metadata": {
        "id": "TUm8-uO1gZh2"
      }
    },
    {
      "cell_type": "markdown",
      "source": [
        "### Iterando Arrays 1-D\n",
        "\n",
        "Iterar significa pasar por los elementos uno por uno.\n",
        "\n",
        "Si iteramos en un array 1-D, pasará por cada elemento uno por uno.\n"
      ],
      "metadata": {
        "id": "17EqjGLTgZh8"
      }
    },
    {
      "cell_type": "markdown",
      "source": [
        "Si ejecutamos el array numpy, obtenemos el formato de un array\n"
      ],
      "metadata": {
        "id": "URDuiLQogZh8"
      }
    },
    {
      "cell_type": "code",
      "source": [
        "arr1 = np.array([1, 2, 3])\n",
        "print(arr1)"
      ],
      "metadata": {
        "id": "EwnsTgp9gZh8",
        "colab": {
          "base_uri": "https://localhost:8080/"
        },
        "outputId": "0b9f4df8-7175-4991-9b37-1bcf37c5f243"
      },
      "execution_count": 104,
      "outputs": [
        {
          "output_type": "stream",
          "name": "stdout",
          "text": [
            "[1 2 3]\n"
          ]
        }
      ]
    },
    {
      "cell_type": "markdown",
      "source": [
        "Pero si queremos obtener la forma de la lista, podemos usar un bucle for:\n"
      ],
      "metadata": {
        "id": "ty2ADuiUgZh8"
      }
    },
    {
      "cell_type": "code",
      "source": [
        "for x in arr1:\n",
        "  print(x)"
      ],
      "metadata": {
        "id": "6fVH66ZfgZh9",
        "colab": {
          "base_uri": "https://localhost:8080/"
        },
        "outputId": "b824d876-d509-430b-9b26-04534664add4"
      },
      "execution_count": 105,
      "outputs": [
        {
          "output_type": "stream",
          "name": "stdout",
          "text": [
            "1\n",
            "2\n",
            "3\n"
          ]
        }
      ]
    },
    {
      "cell_type": "markdown",
      "source": [
        "<h2 id=\"quiz\">Cuestionario sobre Array Numpy 1D</h2>\n"
      ],
      "metadata": {
        "id": "zAdbJ8AFgZh9"
      }
    },
    {
      "cell_type": "markdown",
      "source": [
        "Implementa la siguiente resta vectorial en numpy: u-v\n"
      ],
      "metadata": {
        "id": "ftADOdt1gZh9"
      }
    },
    {
      "cell_type": "code",
      "source": [
        "# Escribe tu código debajo y presiona Shift+Enter para ejecutar\n",
        "\n",
        "u = np.array([1, 0])\n",
        "v = np.array([0, 1])"
      ],
      "metadata": {
        "id": "j5cO39WegZh9"
      },
      "execution_count": 106,
      "outputs": []
    },
    {
      "cell_type": "code",
      "source": [
        "resultado = np.subtract(u, v)\n",
        "print(resultado)"
      ],
      "metadata": {
        "colab": {
          "base_uri": "https://localhost:8080/"
        },
        "id": "DsBFQOlxb0ES",
        "outputId": "833ba58c-aceb-4ff8-df49-7ca3ec528ed6"
      },
      "execution_count": 107,
      "outputs": [
        {
          "output_type": "stream",
          "name": "stdout",
          "text": [
            "[ 1 -1]\n"
          ]
        }
      ]
    },
    {
      "cell_type": "markdown",
      "source": [
        "<hr>\n"
      ],
      "metadata": {
        "id": "rlYEcq1QgZh9"
      }
    },
    {
      "cell_type": "markdown",
      "source": [
        "Multiplica el array numpy z por -2:\n"
      ],
      "metadata": {
        "id": "8xUfkEZVgZh9"
      }
    },
    {
      "cell_type": "code",
      "source": [
        "# Escribe tu código debajo y presiona Shift+Enter para ejecutar\n",
        "z = np.array([2, 4])\n",
        "a = np.multiply(z, -2)\n",
        "a"
      ],
      "metadata": {
        "id": "bRdpdoQWgZh-",
        "colab": {
          "base_uri": "https://localhost:8080/"
        },
        "outputId": "6ff0d0b1-f793-4cd8-f5f8-4a11809fbfb0"
      },
      "execution_count": 108,
      "outputs": [
        {
          "output_type": "execute_result",
          "data": {
            "text/plain": [
              "array([-4, -8])"
            ]
          },
          "metadata": {},
          "execution_count": 108
        }
      ]
    },
    {
      "cell_type": "markdown",
      "source": [
        "<hr>\n"
      ],
      "metadata": {
        "id": "ZWKLn6JegZh-"
      }
    },
    {
      "cell_type": "markdown",
      "source": [
        "Observa las listas <code>\\[1, 2, 3, 4, 5]</code> y <code>\\[1, 0, 1, 0, 1]</code>. Convierte ambas listas en arrays numpy y luego multiplícalas:\n"
      ],
      "metadata": {
        "id": "fNJkNAU_gZh-"
      }
    },
    {
      "cell_type": "code",
      "source": [
        "# Escribe tu código debajo y presiona Shift+Enter para ejecutar\n",
        "arr1 = np.array([1, 2, 3, 4, 5])\n",
        "arr2 = np.array([1, 0, 1, 0, 1])\n",
        "\n",
        "# Escriba aquí su solución\n",
        "arr3 = np.multiply(arr1,arr2)\n",
        "arr3"
      ],
      "metadata": {
        "id": "OKAKdEgZgZh-",
        "colab": {
          "base_uri": "https://localhost:8080/"
        },
        "outputId": "e2971d4e-2864-41da-cd92-634c35b00cd7"
      },
      "execution_count": 109,
      "outputs": [
        {
          "output_type": "execute_result",
          "data": {
            "text/plain": [
              "array([1, 0, 3, 0, 5])"
            ]
          },
          "metadata": {},
          "execution_count": 109
        }
      ]
    },
    {
      "cell_type": "markdown",
      "source": [
        "<hr>\n"
      ],
      "metadata": {
        "id": "ZNYx-yqlgZh-"
      }
    },
    {
      "cell_type": "code",
      "source": [
        "# Importamos las librerías\n",
        "\n",
        "import time\n",
        "import sys\n",
        "import numpy as np\n",
        "\n",
        "import matplotlib.pyplot as plt\n",
        "%matplotlib inline\n",
        "\n",
        "def Plotvec2(a,c,b):\n",
        "    ax = plt.axes()# generamos los ejes de la ventana completa\n",
        "    ax.arrow(0, 0, *a, head_width=0.05, color ='r', head_length=0.1)#Añadimos una flecha a los ejes a con un ancho de punta de flecha de 0,05, color rojo y una longitud de punta de flecha de 0,1\n",
        "    plt.text(*(a + 0.1), 'a')\n",
        "    ax.arrow(0, 0, *b, head_width=0.05, color ='b', head_length=0.1)#Añadimos una flecha a los ejes b con un ancho de punta de flecha de 0,05, color azul y una longitud de punta de flecha de 0,1\n",
        "    plt.text(*(b + 0.1), 'b')\n",
        "    plt.ylim(-2, 2)#Establecemos el ylim en bottom(-2), top(2)\n",
        "    plt.xlim(-2, 2)#Establecemos el xlim en left(-2), right(2)\n",
        "\n",
        "\n"
      ],
      "metadata": {
        "id": "OSgHXO3rgZh-"
      },
      "execution_count": 125,
      "outputs": []
    },
    {
      "cell_type": "markdown",
      "source": [
        "Convierte las listas <code>\\[-1, 1]</code> y <code>\\[1, 1]</code> en los arrays numpy <code>a</code> y <code>b</code>. Luego, traza los arrays como vectores usando la función <code>Plotvec2</code> y encuentra su producto escalar:\n"
      ],
      "metadata": {
        "id": "lWpRw-NpgZh_"
      }
    },
    {
      "cell_type": "code",
      "source": [
        "# Escribe tu código debajo y presiona Shift+Enter para ejecutar\n",
        "a = np.array([-1, 1])\n",
        "b = np.array([1, 1])\n",
        "c = np.add(a, b)\n",
        "Plotvec1(a,c,b)"
      ],
      "metadata": {
        "id": "TVNXN9lTgZh_",
        "colab": {
          "base_uri": "https://localhost:8080/",
          "height": 450
        },
        "outputId": "3718cc1e-2481-44ec-fa60-5d008b7e7139"
      },
      "execution_count": 126,
      "outputs": [
        {
          "output_type": "display_data",
          "data": {
            "text/plain": [
              "<Figure size 640x480 with 1 Axes>"
            ],
            "image/png": "[encoded data removed]"
          },
          "metadata": {}
        }
      ]
    },
    {
      "cell_type": "markdown",
      "source": [
        "<hr>\n"
      ],
      "metadata": {
        "id": "P2xisgfZgZh_"
      }
    },
    {
      "cell_type": "markdown",
      "source": [
        "Convierte las listas <code>\\[1, 0]</code> y <code>\\[0, 1]</code> en los arrays numpy <code>a</code> y <code>b</code>. Luego, traza los arrays como vectores usando la función <code>Plotvec2</code> y encuentra su producto escalar:\n"
      ],
      "metadata": {
        "id": "7aVl8bLzgZh_"
      }
    },
    {
      "cell_type": "code",
      "source": [
        "# Escribe tu código debajo y presiona Shift+Enter para ejecutar\n",
        "a = np.array([1, 0])\n",
        "a"
      ],
      "metadata": {
        "id": "NCoAWa0BgZh_",
        "colab": {
          "base_uri": "https://localhost:8080/"
        },
        "outputId": "45488641-b51f-49d2-df4e-10e08e7466de"
      },
      "execution_count": 132,
      "outputs": [
        {
          "output_type": "execute_result",
          "data": {
            "text/plain": [
              "array([1, 0])"
            ]
          },
          "metadata": {},
          "execution_count": 132
        }
      ]
    },
    {
      "cell_type": "markdown",
      "source": [
        "<hr>\n"
      ],
      "metadata": {
        "id": "_yETfPqtgZiA"
      }
    },
    {
      "cell_type": "markdown",
      "source": [
        "Convierte las listas <code>\\[1, 1]</code> y <code>\\[0, 1]</code> en los arrays numpy <code>a</code> y <code>b</code>. Luego, traza los arrays como vectores usando la función <code>Plotvec2</code> y encuentra su producto escalar:\n"
      ],
      "metadata": {
        "id": "N484BBN_gZiA"
      }
    },
    {
      "cell_type": "code",
      "source": [
        "# Escribe tu código debajo y presiona Shift+Enter para ejecutar\n"
      ],
      "metadata": {
        "id": "mz9QYS77gZiA"
      },
      "execution_count": null,
      "outputs": []
    },
    {
      "cell_type": "markdown",
      "source": [
        "<hr>\n"
      ],
      "metadata": {
        "id": "1Fz_KQ1XgZiA"
      }
    },
    {
      "cell_type": "markdown",
      "source": [
        "¿Por qué el resultado del producto escalar para <code>\\[-1, 1]</code> y <code>\\[1, 1]</code> y del producto escalar para <code>\\[1, 0]</code> y <code>\\[0, 1]</code> es cero, pero no es cero para el producto escalar de <code>\\[1, 1]</code> y <code>\\[0, 1]</code>? <p><i>Pista: Estudia las figuras correspondientes, presta atención a la dirección hacia la que apuntan las flechas.</i></p>\n"
      ],
      "metadata": {
        "id": "MSvAlYN7gZiA"
      }
    },
    {
      "cell_type": "code",
      "source": [
        "# Escribe tu código debajo y presiona Shift+Enter para ejecutar\n"
      ],
      "metadata": {
        "id": "uhpJkZBWgZiA"
      },
      "execution_count": null,
      "outputs": []
    },
    {
      "cell_type": "markdown",
      "source": [
        "Convierte las listas <code>\\[1, 2, 3]</code> y <code>\\[8, 9, 10]</code> en los arrays numpy <code>arr1</code> y <code>arr2</code>. Luego realiza las operaciones <code>Addition</code> , <code>Subtraction</code> , <code>Multiplication</code> , <code>Division</code> y <code>Dot Operation</code> en <code>arr1</code> y <code>arr2</code>.\n"
      ],
      "metadata": {
        "id": "jY4o_7VUgZiB"
      }
    },
    {
      "cell_type": "code",
      "source": [
        "# Escribe tu código debajo y presiona Shift+Enter para ejecutar\n"
      ],
      "metadata": {
        "id": "c_HGYcgJgZiB"
      },
      "execution_count": null,
      "outputs": []
    },
    {
      "cell_type": "markdown",
      "source": [
        "Convierte las listas <code>\\[1, 2, 3, 4, 5]</code> y <code>\\[6, 7, 8, 9, 10]</code> en los arrays numpy <code>arr1</code> y <code>arr2</code>. Después encuentra los números pares e impares de <code>arr1</code> y <code>arr2</code>.\n"
      ],
      "metadata": {
        "id": "XaT85FUngZiB"
      }
    },
    {
      "cell_type": "code",
      "source": [
        "# Escribe tu código debajo y presiona Shift+Enter para ejecutar\n",
        "\n"
      ],
      "metadata": {
        "id": "PPx5w6GrgZiB"
      },
      "execution_count": null,
      "outputs": []
    }
  ]
}